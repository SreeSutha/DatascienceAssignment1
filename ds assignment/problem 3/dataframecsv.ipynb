{
 "cells": [
  {
   "cell_type": "code",
   "execution_count": 12,
   "id": "c01c55a7",
   "metadata": {},
   "outputs": [
    {
     "name": "stdout",
     "output_type": "stream",
     "text": [
      "       REG NO                   NAME                 EMAIL ID  \\\n",
      "0   2022PCS01        M.AMBIKHAA DEVI  2022pcs01.amb@gmail.com   \n",
      "1   2022PCS02                P.ARUNA  2022pcs02.aru@gmail.com   \n",
      "2   2022PCS03         B.GOMATHI BALA  2022pcs03.gom@gmail.com   \n",
      "3   2022PCS04            E.JOTHI SRI  2022pcs04.jot@gmail.com   \n",
      "4   2022PCS05       KAMATCHI KAVITHA  2022pcs05.kam@gmail.com   \n",
      "5   2022PCS06  K.KARPAGA VISHALATCHI  2022pcs06.kar@gmail.com   \n",
      "6   2022PCS07        M.MUTHU VINITHA  2022pcs07.mut@gmail.com   \n",
      "7   2022PCS08           S.SREE SUTHA  2022pcs08.sre@gmail.com   \n",
      "8   2022PCS09        I.SUBBU LAKSHMI  2022pcs09.sub@gmail.com   \n",
      "9   2022PCS10        M.SUBBU LAKSHMI  2022pcs10.sub@gmail.com   \n",
      "10  2022PCS11             SUDHARSANA  2022pcs11.sud@gmail.com   \n",
      "11  2022PCS12                 SWETHA  2022pcs12.swe@gmail.com   \n",
      "12  2022PCS13        M.THANGA SUSHMA  2022pcs13.tha@gmail.com   \n",
      "\n",
      "                         COLLEGE  \n",
      "0   SRI SARADA COLLEGE FOR WOMEN  \n",
      "1   SRI SARADA COLLEGE FOR WOMEN  \n",
      "2   SRI SARADA COLLEGE FOR WOMEN  \n",
      "3   SRI SARADA COLLEGE FOR WOMEN  \n",
      "4   SRI SARADA COLLEGE FOR WOMEN  \n",
      "5   SRI SARADA COLLEGE FOR WOMEN  \n",
      "6   SRI SARADA COLLEGE FOR WOMEN  \n",
      "7   SRI SARADA COLLEGE FOR WOMEN  \n",
      "8   SRI SARADA COLLEGE FOR WOMEN  \n",
      "9   SRI SARADA COLLEGE FOR WOMEN  \n",
      "10  SRI SARADA COLLEGE FOR WOMEN  \n",
      "11  SRI SARADA COLLEGE FOR WOMEN  \n",
      "12  SRI SARADA COLLEGE FOR WOMEN  \n"
     ]
    }
   ],
   "source": [
    "import pandas as pd\n",
    "dataframe = pd.read_csv(r\"C:\\Users\\ELCOT\\create dataframe using csv\\ds_assignment.csv\")\n",
    "print(dataframe.tail(13))\n"
   ]
  },
  {
   "cell_type": "code",
   "execution_count": null,
   "id": "730f6013",
   "metadata": {},
   "outputs": [],
   "source": []
  }
 ],
 "metadata": {
  "kernelspec": {
   "display_name": "py",
   "language": "python",
   "name": "myenv"
  },
  "language_info": {
   "codemirror_mode": {
    "name": "ipython",
    "version": 3
   },
   "file_extension": ".py",
   "mimetype": "text/x-python",
   "name": "python",
   "nbconvert_exporter": "python",
   "pygments_lexer": "ipython3",
   "version": "3.10.9"
  }
 },
 "nbformat": 4,
 "nbformat_minor": 5
}
