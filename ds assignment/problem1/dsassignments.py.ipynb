{
 "cells": [
  {
   "cell_type": "code",
   "execution_count": 1,
   "id": "f2e7c8a4",
   "metadata": {},
   "outputs": [
    {
     "name": "stdout",
     "output_type": "stream",
     "text": [
      "check if it is pythagorean triplets\n"
     ]
    }
   ],
   "source": [
    "print (\"check if it is pythagorean triplets\")\n",
    "\n"
   ]
  },
  {
   "cell_type": "code",
   "execution_count": 1,
   "id": "a9fe2a72",
   "metadata": {},
   "outputs": [
    {
     "name": "stdout",
     "output_type": "stream",
     "text": [
      "length of perpendicular 6\n",
      "6\n"
     ]
    }
   ],
   "source": [
    "num_1= int(input(\"length of perpendicular \"))\n",
    "print (num_1)\n"
   ]
  },
  {
   "cell_type": "code",
   "execution_count": 2,
   "id": "37100308",
   "metadata": {},
   "outputs": [
    {
     "name": "stdout",
     "output_type": "stream",
     "text": [
      "length of base 8\n",
      "8\n"
     ]
    }
   ],
   "source": [
    "num_2= int(input(\"length of base \"))\n",
    "print (num_2)\n"
   ]
  },
  {
   "cell_type": "code",
   "execution_count": 3,
   "id": "ac682a95",
   "metadata": {},
   "outputs": [
    {
     "name": "stdout",
     "output_type": "stream",
     "text": [
      "length of hypotenues 10\n",
      "10\n"
     ]
    }
   ],
   "source": [
    "num_3= int(input(\"length of hypotenues \"))\n",
    "print (num_3)\n"
   ]
  },
  {
   "cell_type": "code",
   "execution_count": 4,
   "id": "ac23c3d8",
   "metadata": {},
   "outputs": [
    {
     "name": "stdout",
     "output_type": "stream",
     "text": [
      "100\n"
     ]
    }
   ],
   "source": [
    "sqr_num_3= num_3**2\n",
    "print(sqr_num_3)\n"
   ]
  },
  {
   "cell_type": "code",
   "execution_count": 5,
   "id": "cfda3688",
   "metadata": {},
   "outputs": [
    {
     "name": "stdout",
     "output_type": "stream",
     "text": [
      "100\n"
     ]
    }
   ],
   "source": [
    "calculate_hypotenues_sqr = (num_1**2 ) +(num_2**2)\n",
    "print (calculate_hypotenues_sqr)\n"
   ]
  },
  {
   "cell_type": "code",
   "execution_count": 8,
   "id": "2c74c5ec",
   "metadata": {},
   "outputs": [
    {
     "name": "stdout",
     "output_type": "stream",
     "text": [
      "It is  a pythagorean triples\n"
     ]
    }
   ],
   "source": [
    "if sqr_num_3==calculate_hypotenues_sqr:\n",
    "    print(\"It is  a pythagorean triples\")\n",
    "else:\n",
    "    print(\"It is not a pythagorean triples\")\n",
    "    print(\"Because the sum of the square of perpendicular\" ,num_1, \" and base\",num_2,\" is not equal to hypotenues\",num_3)\n",
    "\n"
   ]
  },
  {
   "cell_type": "code",
   "execution_count": 14,
   "id": "f2017845",
   "metadata": {},
   "outputs": [
    {
     "name": "stdout",
     "output_type": "stream",
     "text": [
      " \t \t CHECK IF IT IS PYTHAGOREAN TRIPLES OR NOT \n",
      "Length of Perpendicular 8.5\n",
      "8.5\n",
      "\n",
      " Length of Base 6.5\n",
      "6.5\n",
      "\n",
      " Length of Hypotenues 10.5\n",
      "10.5\n",
      "\n",
      " Square of  Hypotenues 110.25\n",
      "\n",
      " Square of pPerpendicular Length :  72.25 + square of baselength :  42.25  = square of hypotenues : 114.5\n",
      "\n",
      " It is not a pythagorean triples : (axa)+ (bxb)!=(cxc)\n",
      "\n",
      " Because the sum of the Square of Perpendicular 8.5  and Base 6.5  is not equal to Square of Hypotenues 10.5\n"
     ]
    }
   ],
   "source": [
    "print (\" \\t \\t CHECK IF IT IS PYTHAGOREAN TRIPLES OR NOT \")\n",
    "num_1= float(input(\"Length of Perpendicular \"))\n",
    "print (num_1)\n",
    "num_2= float(input(\"\\n Length of Base \"))\n",
    "print (num_2)\n",
    "num_3= float(input(\"\\n Length of Hypotenues \"))\n",
    "print (num_3)\n",
    "sqr_num_3= num_3**2\n",
    "print(\"\\n Square of  Hypotenues\",sqr_num_3)\n",
    "calculate_hypotenues_sqr = (num_1**2 ) +(num_2**2)\n",
    "print (\"\\n Square of pPerpendicular Length : \",num_1**2,\"+ square of baselength : \",num_2**2,\" = square of hypotenues :\",calculate_hypotenues_sqr,)\n",
    "if sqr_num_3==calculate_hypotenues_sqr:\n",
    "    print(\"\\n \\t It is  a Pythagorean Triples : (axa)+ (bxb)=(cxc)\")\n",
    "else:\n",
    "    print(\"\\n It is not a pythagorean triples : (axa)+ (bxb)!=(cxc)\")\n",
    "    print(\"\\n Because the sum of the Square of Perpendicular\" ,num_1, \" and Base\",num_2,\" is not equal to Square of Hypotenues\",num_3)\n",
    "    # \"pythagorean triples cannot be expressed in decimals\""
   ]
  },
  {
   "cell_type": "code",
   "execution_count": null,
   "id": "119d9284",
   "metadata": {},
   "outputs": [],
   "source": []
  },
  {
   "cell_type": "code",
   "execution_count": null,
   "id": "f11ebb59",
   "metadata": {},
   "outputs": [],
   "source": []
  }
 ],
 "metadata": {
  "kernelspec": {
   "display_name": "py",
   "language": "python",
   "name": "myenv"
  },
  "language_info": {
   "codemirror_mode": {
    "name": "ipython",
    "version": 3
   },
   "file_extension": ".py",
   "mimetype": "text/x-python",
   "name": "python",
   "nbconvert_exporter": "python",
   "pygments_lexer": "ipython3",
   "version": "3.10.9"
  }
 },
 "nbformat": 4,
 "nbformat_minor": 5
}
