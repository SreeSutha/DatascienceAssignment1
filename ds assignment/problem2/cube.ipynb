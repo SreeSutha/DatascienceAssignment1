{
 "cells": [
  {
   "cell_type": "code",
   "execution_count": 2,
   "id": "cb8ceb65",
   "metadata": {},
   "outputs": [
    {
     "name": "stdout",
     "output_type": "stream",
     "text": [
      "\n",
      "\t CUBE OF THE NUMBER \n",
      "\t -------------------\n",
      "\n",
      " ENTER A NUMBER :  8\n",
      "\n",
      " Cube of the number : ( 8.0 )  is  512.0\n"
     ]
    }
   ],
   "source": [
    "print(\"\\n\\t CUBE OF THE NUMBER \\n\\t -------------------\")\n",
    "num_1= float(input(\"\\n ENTER A NUMBER :  \"))\n",
    "cube = num_1**3\n",
    "print (\"\\n Cube of the number : (\",num_1,\")  is \",cube)"
   ]
  },
  {
   "cell_type": "code",
   "execution_count": null,
   "id": "843f9137",
   "metadata": {},
   "outputs": [],
   "source": []
  }
 ],
 "metadata": {
  "kernelspec": {
   "display_name": "py",
   "language": "python",
   "name": "myenv"
  },
  "language_info": {
   "codemirror_mode": {
    "name": "ipython",
    "version": 3
   },
   "file_extension": ".py",
   "mimetype": "text/x-python",
   "name": "python",
   "nbconvert_exporter": "python",
   "pygments_lexer": "ipython3",
   "version": "3.10.9"
  }
 },
 "nbformat": 4,
 "nbformat_minor": 5
}
